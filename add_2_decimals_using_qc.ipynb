from qiskit import QuantumCircuit,QuantumRegister,ClassicalRegister
from qiskit.circuit.library import CDKMRippleCarryAdder
from qiskit_aer import Aer
import numpy as np
from qiskit.compiler import transpile

def decimal_to_binary(num, bits):
    return np.array([int(bit) for bit in f'{num:0{bits}b}'])

def create_circuit(x, y):
    m = max(x.bit_length(), y.bit_length())
    x_bin = decimal_to_binary(x, m)
    y_bin = decimal_to_binary(y, m)

    rev_x_bin=x_bin[::-1]
    rev_y_bin=y_bin[::-1]

    adder = CDKMRippleCarryAdder(m, 'full', 'Full Adder')
    operand1 = QuantumRegister(m, 'o1')
    operand2 = QuantumRegister(m, 'o2')
    anc = QuantumRegister(2, 'a')
    cr = ClassicalRegister(m+1)

    circ=QuantumCircuit(operand1, operand2, anc, cr)
    
    for i, bit in enumerate(rev_x_bin):
        if bit == 1:
            circ.x(operand1[i])
    for i, bit in enumerate(rev_y_bin):
        if bit == 1:
            circ.x(operand2[i])

    circ.append(adder, [anc[0]] + operand1[0:m] + operand2[0:m] + [anc[1]])
    
    circ.measure(operand2[0:m] + [anc[1]], cr)
    circ.draw('mpl')
     
    return circ

x = int(input("Enter x (decimal): "))
y = int(input("Enter y (decimal): "))
    
qc = create_circuit(x, y)
    
simulator = Aer.get_backend('qasm_simulator')
tr_circ = transpile(qc, basis_gates = ['u3', 'cx'], optimization_level = 3)
result = simulator.run(tr_circ).result()
count = result.get_counts()
counts=list(count.keys())[0]

def binary_to_decimal(binary_str):
    # Ensure the input is a string and contains only '0' and '1'
    if not isinstance(binary_str, str) or not all(bit in '01' for bit in binary_str):
        raise ValueError("Input must be a binary string containing only '0' and '1'.")

    # Convert binary string to decimal integer
    decimal_value = int(binary_str, 2)

    return decimal_value

print(binary_to_decimal(counts)) 
